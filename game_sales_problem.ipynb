{
  "cells": [
    {
      "cell_type": "markdown",
      "metadata": {
        "id": "view-in-github",
        "colab_type": "text"
      },
      "source": [
        "<a href=\"https://colab.research.google.com/github/saraalturki1/-Adventure-game/blob/main/game_sales_problem.ipynb\" target=\"_parent\"><img src=\"https://colab.research.google.com/assets/colab-badge.svg\" alt=\"Open In Colab\"/></a>"
      ]
    },
    {
      "cell_type": "code",
      "source": [
        "# Importing the required libraries\n",
        "import pandas as pd\n",
        "import numpy as np\n",
        "\n",
        "import seaborn as sns\n",
        "\n",
        "# Importing the dataset\n",
        "\n",
        "#use this dataset \n",
        "# https://raw.githubusercontent.com/BLANK-13/SideQuest-AI/main/Datasets/Video_games_linear/Video_Games_Sales_as_at_22_Dec_2016.csv\n",
        "df = pd.read_csv(\"https://raw.githubusercontent.com/BLANK-13/SideQuest-AI/main/Datasets/Video_games_linear/Video_Games_Sales_as_at_22_Dec_2016.csv\")\n",
        "\n",
        "\n"
      ],
      "metadata": {
        "id": "5g62L0kPafe2"
      },
      "execution_count": 3,
      "outputs": []
    },
    {
      "cell_type": "code",
      "source": [
        "# Dropping certain less important features\n",
        "\n",
        "\n",
        "# To view the columns with missing values\n"
      ],
      "metadata": {
        "id": "ebl7-zcWZjU3"
      },
      "execution_count": null,
      "outputs": []
    },
    {
      "cell_type": "code",
      "source": [],
      "metadata": {
        "id": "d5n7QCNkx9zC"
      },
      "execution_count": null,
      "outputs": []
    },
    {
      "cell_type": "code",
      "source": [
        "\n",
        "\n",
        "# get seperate our dataset and make X(inputs) and y (target variable)\n",
        "\n",
        "\n",
        "# Splitting the dataset into Train and Test sets\n",
        "from sklearn.model_selection import train_test_split\n",
        "\n",
        "\n",
        "# Saving name of the games in training and test set just to display them we don't need names in prediction\n",
        "\n",
        "# Dropping the column that contains the name of the games after saving our names\n"
      ],
      "metadata": {
        "id": "jjvNH1Gka_XW"
      },
      "execution_count": null,
      "outputs": []
    },
    {
      "cell_type": "code",
      "source": [
        "\n",
        "\n",
        "from sklearn.impute import SimpleImputer\n",
        "# handle the missing values with values"
      ],
      "metadata": {
        "id": "Fvkr6nnkbN0e"
      },
      "execution_count": null,
      "outputs": []
    },
    {
      "cell_type": "code",
      "source": [
        "\n",
        "\n",
        "# https://miro.medium.com/v2/resize:fit:1400/1*ggtP4a5YaRx6l09KQaYOnw.png\n",
        "from sklearn.compose import ColumnTransformer\n",
        "from sklearn.preprocessing import OneHotEncoder\n",
        "# we will transform categorical data to numerical using OneHotEncoder\n",
        "\n"
      ],
      "metadata": {
        "id": "QPUYKPTlFqmx"
      },
      "execution_count": null,
      "outputs": []
    },
    {
      "cell_type": "code",
      "source": [
        "\n",
        "\n",
        "# we'll start trainnig our model using LinearRegression\n",
        "from sklearn.linear_model import LinearRegression\n",
        "\n"
      ],
      "metadata": {
        "id": "7q2j23pSFtQv"
      },
      "execution_count": null,
      "outputs": []
    },
    {
      "cell_type": "markdown",
      "source": [],
      "metadata": {
        "id": "hEuxSZDQiO82"
      }
    },
    {
      "cell_type": "code",
      "source": [
        "# Predicting test set results\n",
        "from sklearn import metrics\n",
        "\n",
        "# Visualising actual and predicted sales\n"
      ],
      "metadata": {
        "id": "VyiBXapPGuuX"
      },
      "execution_count": null,
      "outputs": []
    }
  ],
  "metadata": {
    "kernelspec": {
      "display_name": "Python 3",
      "language": "python",
      "name": "python3"
    },
    "language_info": {
      "codemirror_mode": {
        "name": "ipython",
        "version": 3
      },
      "file_extension": ".py",
      "mimetype": "text/x-python",
      "name": "python",
      "nbconvert_exporter": "python",
      "pygments_lexer": "ipython3",
      "version": "3.10.4"
    },
    "orig_nbformat": 4,
    "vscode": {
      "interpreter": {
        "hash": "369f2c481f4da34e4445cda3fffd2e751bd1c4d706f27375911949ba6bb62e1c"
      }
    },
    "colab": {
      "provenance": [],
      "include_colab_link": true
    }
  },
  "nbformat": 4,
  "nbformat_minor": 0
}